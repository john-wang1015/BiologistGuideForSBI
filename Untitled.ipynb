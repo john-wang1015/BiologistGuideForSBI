{
 "cells": [
  {
   "cell_type": "code",
   "execution_count": 1,
   "id": "75c1f513",
   "metadata": {},
   "outputs": [],
   "source": [
    "import numpy as np\n",
    "import pandas as pd\n",
    "import scipy.io as sio"
   ]
  },
  {
   "cell_type": "code",
   "execution_count": 10,
   "id": "a622efa7",
   "metadata": {},
   "outputs": [],
   "source": [
    "unpickled_df = pd.read_pickle(\"pan1rsnl_thetas.pkl\")"
   ]
  },
  {
   "cell_type": "code",
   "execution_count": 12,
   "id": "17f020fe",
   "metadata": {},
   "outputs": [
    {
     "data": {
      "text/plain": [
       "array([[146.64244 ,  14.277104,  64.36814 ],\n",
       "       [153.85838 ,  14.177545,  59.854717],\n",
       "       [154.76518 ,  14.841907,  54.31278 ],\n",
       "       ...,\n",
       "       [138.75363 ,  14.209341,  57.10165 ],\n",
       "       [147.38748 ,  14.33349 ,  47.149895],\n",
       "       [144.92264 ,  13.751425,  62.455112]], dtype=float32)"
      ]
     },
     "execution_count": 12,
     "metadata": {},
     "output_type": "execute_result"
    }
   ],
   "source": [
    "unpickled_df.values[3]"
   ]
  },
  {
   "cell_type": "code",
   "execution_count": 17,
   "id": "31cdb71f",
   "metadata": {},
   "outputs": [],
   "source": [
    "for i in range(1,4):\n",
    "    file_name = \"pan{}snl_thetas.pkl\".format(str(i))\n",
    "    save_name = \"pan{}snl_thetas.mat\".format(str(i))\n",
    "    \n",
    "    data = pd.read_pickle(file_name).values[3]\n",
    "    \n",
    "    sio.savemat(save_name, {'posterior':data})"
   ]
  },
  {
   "cell_type": "code",
   "execution_count": null,
   "id": "c5637ba9",
   "metadata": {},
   "outputs": [],
   "source": []
  }
 ],
 "metadata": {
  "kernelspec": {
   "display_name": "Python 3 (ipykernel)",
   "language": "python",
   "name": "python3"
  },
  "language_info": {
   "codemirror_mode": {
    "name": "ipython",
    "version": 3
   },
   "file_extension": ".py",
   "mimetype": "text/x-python",
   "name": "python",
   "nbconvert_exporter": "python",
   "pygments_lexer": "ipython3",
   "version": "3.11.4"
  }
 },
 "nbformat": 4,
 "nbformat_minor": 5
}
