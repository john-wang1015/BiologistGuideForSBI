{
 "cells": [
  {
   "cell_type": "code",
   "execution_count": 1,
   "metadata": {},
   "outputs": [
    {
     "name": "stderr",
     "output_type": "stream",
     "text": [
      "/Users/xiaoyuwang/opt/anaconda3/lib/python3.8/site-packages/scipy/__init__.py:138: UserWarning: A NumPy version >=1.16.5 and <1.23.0 is required for this version of SciPy (detected version 1.24.4)\n",
      "  warnings.warn(f\"A NumPy version >={np_minversion} and <{np_maxversion} is required for this version of \"\n"
     ]
    }
   ],
   "source": [
    "import numpy as np\n",
    "import torch\n",
    "_ = torch.manual_seed(10)\n",
    "import os\n",
    "import math\n",
    "from sbi import utils as utils\n",
    "import sbi\n",
    "from sbi import inference\n",
    "from sbi.inference import SNLE, prepare_for_sbi, simulate_for_sbi\n",
    "from sbi.inference import likelihood_estimator_based_potential, MCMCPosterior\n",
    "import scipy.io as sio"
   ]
  },
  {
   "cell_type": "code",
   "execution_count": null,
   "metadata": {},
   "outputs": [],
   "source": []
  },
  {
   "cell_type": "code",
   "execution_count": null,
   "metadata": {},
   "outputs": [],
   "source": [
    "initial_data = sio.loadmat(\"BVCBM_syn_dataset.mat\")\n",
    "\n",
    "y = torch.from_numpy(initial_data[\"syn1\"]).to(torch.float32)\n",
    "theta = torch.from_numpy(syn1_data_iter2[\"theta_syn2\"]).to(torch.float32)\n",
    "x = torch.from_numpy(syn1_data_iter2[\"sims2\"]).to(torch.float32)\n",
    "\n",
    "lower = torch.ones(9)\n",
    "lower[0],lower[1],lower[5],lower[6] = 0*lower[0], 0*lower[1],0*lower[5], 0*lower[6]\n",
    "lower[4] = 2 * lower[4]\n",
    "\n",
    "upper = torch.ones(9)\n",
    "upper[2],upper[3],upper[7],upper[8] = 50*upper[2],24*32*upper[3],50*upper[7],24*32*upper[8]\n",
    "upper[4] = 31 * upper[4]\n",
    "\n",
    "priorDist = utils.BoxUniform(lower,upper)\n",
    "def simulator(theta):\n",
    "    return theta\n",
    "_,prior = prepare_for_sbi(simulator,priorDist)\n",
    "\n",
    "proposal = prior\n",
    "\n",
    "inference = sbi.inference.SNLE(prior=prior, density_estimator='nsf')\n",
    "likelihood_estimator = inference.append_simulations(theta, x, proposal=proposal).train()\n",
    "\n",
    "potential_fn, parameter_transform = likelihood_estimator_based_potential(\n",
    "    likelihood_estimator, prior, y\n",
    ")\n",
    "posterior = MCMCPosterior(\n",
    "    potential_fn, proposal=prior, theta_transform=parameter_transform\n",
    ")"
   ]
  }
 ],
 "metadata": {
  "kernelspec": {
   "display_name": "Python 3 (ipykernel)",
   "language": "python",
   "name": "python3"
  },
  "language_info": {
   "codemirror_mode": {
    "name": "ipython",
    "version": 3
   },
   "file_extension": ".py",
   "mimetype": "text/x-python",
   "name": "python",
   "nbconvert_exporter": "python",
   "pygments_lexer": "ipython3",
   "version": "3.11.4"
  }
 },
 "nbformat": 4,
 "nbformat_minor": 4
}
