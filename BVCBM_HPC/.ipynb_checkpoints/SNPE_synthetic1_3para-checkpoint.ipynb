{
 "cells": [
  {
   "cell_type": "code",
   "execution_count": 4,
   "id": "7d73fe33",
   "metadata": {
    "scrolled": true
   },
   "outputs": [
    {
     "ename": "UnicodeDecodeError",
     "evalue": "'gbk' codec can't decode byte 0xba in position 2367: illegal multibyte sequence",
     "output_type": "error",
     "traceback": [
      "\u001b[1;31m---------------------------------------------------------------------------\u001b[0m",
      "\u001b[1;31mUnicodeDecodeError\u001b[0m                        Traceback (most recent call last)",
      "Cell \u001b[1;32mIn[4], line 7\u001b[0m\n\u001b[0;32m      4\u001b[0m \u001b[38;5;28;01mimport\u001b[39;00m \u001b[38;5;21;01mos\u001b[39;00m\n\u001b[0;32m      5\u001b[0m \u001b[38;5;28;01mimport\u001b[39;00m \u001b[38;5;21;01mmath\u001b[39;00m\n\u001b[1;32m----> 7\u001b[0m \u001b[38;5;28;01mfrom\u001b[39;00m \u001b[38;5;21;01msbi\u001b[39;00m\u001b[38;5;21;01m.\u001b[39;00m\u001b[38;5;21;01minference\u001b[39;00m \u001b[38;5;28;01mimport\u001b[39;00m SNPE, prepare_for_sbi, simulate_for_sbi\n\u001b[0;32m      8\u001b[0m \u001b[38;5;28;01mfrom\u001b[39;00m \u001b[38;5;21;01msbi\u001b[39;00m\u001b[38;5;21;01m.\u001b[39;00m\u001b[38;5;21;01mutils\u001b[39;00m\u001b[38;5;21;01m.\u001b[39;00m\u001b[38;5;21;01mget_nn_models\u001b[39;00m \u001b[38;5;28;01mimport\u001b[39;00m posterior_nn\n\u001b[0;32m      9\u001b[0m \u001b[38;5;28;01mfrom\u001b[39;00m \u001b[38;5;21;01msbi\u001b[39;00m \u001b[38;5;28;01mimport\u001b[39;00m utils \u001b[38;5;28;01mas\u001b[39;00m utils\n",
      "File \u001b[1;32m~\\anaconda3\\Lib\\site-packages\\sbi\\inference\\__init__.py:22\u001b[0m\n\u001b[0;32m     15\u001b[0m \u001b[38;5;28;01mfrom\u001b[39;00m \u001b[38;5;21;01msbi\u001b[39;00m\u001b[38;5;21;01m.\u001b[39;00m\u001b[38;5;21;01minference\u001b[39;00m\u001b[38;5;21;01m.\u001b[39;00m\u001b[38;5;21;01mabc\u001b[39;00m\u001b[38;5;21;01m.\u001b[39;00m\u001b[38;5;21;01msmcabc\u001b[39;00m \u001b[38;5;28;01mimport\u001b[39;00m SMCABC\n\u001b[0;32m     16\u001b[0m \u001b[38;5;28;01mfrom\u001b[39;00m \u001b[38;5;21;01msbi\u001b[39;00m\u001b[38;5;21;01m.\u001b[39;00m\u001b[38;5;21;01minference\u001b[39;00m\u001b[38;5;21;01m.\u001b[39;00m\u001b[38;5;21;01mbase\u001b[39;00m \u001b[38;5;28;01mimport\u001b[39;00m (  \u001b[38;5;66;03m# noqa: F401\u001b[39;00m\n\u001b[0;32m     17\u001b[0m     NeuralInference,\n\u001b[0;32m     18\u001b[0m     check_if_proposal_has_default_x,\n\u001b[0;32m     19\u001b[0m     infer,\n\u001b[0;32m     20\u001b[0m     simulate_for_sbi,\n\u001b[0;32m     21\u001b[0m )\n\u001b[1;32m---> 22\u001b[0m \u001b[38;5;28;01mfrom\u001b[39;00m \u001b[38;5;21;01msbi\u001b[39;00m\u001b[38;5;21;01m.\u001b[39;00m\u001b[38;5;21;01minference\u001b[39;00m\u001b[38;5;21;01m.\u001b[39;00m\u001b[38;5;21;01msnle\u001b[39;00m\u001b[38;5;21;01m.\u001b[39;00m\u001b[38;5;21;01mmnle\u001b[39;00m \u001b[38;5;28;01mimport\u001b[39;00m MNLE\n\u001b[0;32m     23\u001b[0m \u001b[38;5;28;01mfrom\u001b[39;00m \u001b[38;5;21;01msbi\u001b[39;00m\u001b[38;5;21;01m.\u001b[39;00m\u001b[38;5;21;01minference\u001b[39;00m\u001b[38;5;21;01m.\u001b[39;00m\u001b[38;5;21;01msnle\u001b[39;00m\u001b[38;5;21;01m.\u001b[39;00m\u001b[38;5;21;01msnle_a\u001b[39;00m \u001b[38;5;28;01mimport\u001b[39;00m SNLE_A\n\u001b[0;32m     24\u001b[0m \u001b[38;5;28;01mfrom\u001b[39;00m \u001b[38;5;21;01msbi\u001b[39;00m\u001b[38;5;21;01m.\u001b[39;00m\u001b[38;5;21;01minference\u001b[39;00m\u001b[38;5;21;01m.\u001b[39;00m\u001b[38;5;21;01msnpe\u001b[39;00m\u001b[38;5;21;01m.\u001b[39;00m\u001b[38;5;21;01msnpe_a\u001b[39;00m \u001b[38;5;28;01mimport\u001b[39;00m SNPE_A\n",
      "File \u001b[1;32m~\\anaconda3\\Lib\\site-packages\\sbi\\inference\\snle\\__init__.py:1\u001b[0m\n\u001b[1;32m----> 1\u001b[0m \u001b[38;5;28;01mfrom\u001b[39;00m \u001b[38;5;21;01msbi\u001b[39;00m\u001b[38;5;21;01m.\u001b[39;00m\u001b[38;5;21;01minference\u001b[39;00m\u001b[38;5;21;01m.\u001b[39;00m\u001b[38;5;21;01msnle\u001b[39;00m\u001b[38;5;21;01m.\u001b[39;00m\u001b[38;5;21;01mmnle\u001b[39;00m \u001b[38;5;28;01mimport\u001b[39;00m MNLE  \u001b[38;5;66;03m# noqa: F401\u001b[39;00m\n\u001b[0;32m      2\u001b[0m \u001b[38;5;28;01mfrom\u001b[39;00m \u001b[38;5;21;01msbi\u001b[39;00m\u001b[38;5;21;01m.\u001b[39;00m\u001b[38;5;21;01minference\u001b[39;00m\u001b[38;5;21;01m.\u001b[39;00m\u001b[38;5;21;01msnle\u001b[39;00m\u001b[38;5;21;01m.\u001b[39;00m\u001b[38;5;21;01msnle_a\u001b[39;00m \u001b[38;5;28;01mimport\u001b[39;00m SNLE_A\n",
      "File \u001b[1;32m~\\anaconda3\\Lib\\site-packages\\sbi\\inference\\snle\\mnle.py:10\u001b[0m\n\u001b[0;32m      6\u001b[0m \u001b[38;5;28;01mfrom\u001b[39;00m \u001b[38;5;21;01mtyping\u001b[39;00m \u001b[38;5;28;01mimport\u001b[39;00m Any, Callable, Dict, Optional, Union\n\u001b[0;32m      8\u001b[0m \u001b[38;5;28;01mfrom\u001b[39;00m \u001b[38;5;21;01mtorch\u001b[39;00m\u001b[38;5;21;01m.\u001b[39;00m\u001b[38;5;21;01mdistributions\u001b[39;00m \u001b[38;5;28;01mimport\u001b[39;00m Distribution\n\u001b[1;32m---> 10\u001b[0m \u001b[38;5;28;01mfrom\u001b[39;00m \u001b[38;5;21;01msbi\u001b[39;00m\u001b[38;5;21;01m.\u001b[39;00m\u001b[38;5;21;01minference\u001b[39;00m\u001b[38;5;21;01m.\u001b[39;00m\u001b[38;5;21;01mposteriors\u001b[39;00m \u001b[38;5;28;01mimport\u001b[39;00m MCMCPosterior, RejectionPosterior, VIPosterior\n\u001b[0;32m     11\u001b[0m \u001b[38;5;28;01mfrom\u001b[39;00m \u001b[38;5;21;01msbi\u001b[39;00m\u001b[38;5;21;01m.\u001b[39;00m\u001b[38;5;21;01minference\u001b[39;00m\u001b[38;5;21;01m.\u001b[39;00m\u001b[38;5;21;01mpotentials\u001b[39;00m \u001b[38;5;28;01mimport\u001b[39;00m mixed_likelihood_estimator_based_potential\n\u001b[0;32m     12\u001b[0m \u001b[38;5;28;01mfrom\u001b[39;00m \u001b[38;5;21;01msbi\u001b[39;00m\u001b[38;5;21;01m.\u001b[39;00m\u001b[38;5;21;01minference\u001b[39;00m\u001b[38;5;21;01m.\u001b[39;00m\u001b[38;5;21;01msnle\u001b[39;00m\u001b[38;5;21;01m.\u001b[39;00m\u001b[38;5;21;01msnle_base\u001b[39;00m \u001b[38;5;28;01mimport\u001b[39;00m LikelihoodEstimator\n",
      "File \u001b[1;32m~\\anaconda3\\Lib\\site-packages\\sbi\\inference\\posteriors\\__init__.py:3\u001b[0m\n\u001b[0;32m      1\u001b[0m \u001b[38;5;28;01mfrom\u001b[39;00m \u001b[38;5;21;01msbi\u001b[39;00m\u001b[38;5;21;01m.\u001b[39;00m\u001b[38;5;21;01minference\u001b[39;00m\u001b[38;5;21;01m.\u001b[39;00m\u001b[38;5;21;01mposteriors\u001b[39;00m\u001b[38;5;21;01m.\u001b[39;00m\u001b[38;5;21;01mdirect_posterior\u001b[39;00m \u001b[38;5;28;01mimport\u001b[39;00m DirectPosterior\n\u001b[0;32m      2\u001b[0m \u001b[38;5;28;01mfrom\u001b[39;00m \u001b[38;5;21;01msbi\u001b[39;00m\u001b[38;5;21;01m.\u001b[39;00m\u001b[38;5;21;01minference\u001b[39;00m\u001b[38;5;21;01m.\u001b[39;00m\u001b[38;5;21;01mposteriors\u001b[39;00m\u001b[38;5;21;01m.\u001b[39;00m\u001b[38;5;21;01mimportance_posterior\u001b[39;00m \u001b[38;5;28;01mimport\u001b[39;00m ImportanceSamplingPosterior\n\u001b[1;32m----> 3\u001b[0m \u001b[38;5;28;01mfrom\u001b[39;00m \u001b[38;5;21;01msbi\u001b[39;00m\u001b[38;5;21;01m.\u001b[39;00m\u001b[38;5;21;01minference\u001b[39;00m\u001b[38;5;21;01m.\u001b[39;00m\u001b[38;5;21;01mposteriors\u001b[39;00m\u001b[38;5;21;01m.\u001b[39;00m\u001b[38;5;21;01mmcmc_posterior\u001b[39;00m \u001b[38;5;28;01mimport\u001b[39;00m MCMCPosterior\n\u001b[0;32m      4\u001b[0m \u001b[38;5;28;01mfrom\u001b[39;00m \u001b[38;5;21;01msbi\u001b[39;00m\u001b[38;5;21;01m.\u001b[39;00m\u001b[38;5;21;01minference\u001b[39;00m\u001b[38;5;21;01m.\u001b[39;00m\u001b[38;5;21;01mposteriors\u001b[39;00m\u001b[38;5;21;01m.\u001b[39;00m\u001b[38;5;21;01mrejection_posterior\u001b[39;00m \u001b[38;5;28;01mimport\u001b[39;00m RejectionPosterior\n\u001b[0;32m      5\u001b[0m \u001b[38;5;28;01mfrom\u001b[39;00m \u001b[38;5;21;01msbi\u001b[39;00m\u001b[38;5;21;01m.\u001b[39;00m\u001b[38;5;21;01minference\u001b[39;00m\u001b[38;5;21;01m.\u001b[39;00m\u001b[38;5;21;01mposteriors\u001b[39;00m\u001b[38;5;21;01m.\u001b[39;00m\u001b[38;5;21;01mvi_posterior\u001b[39;00m \u001b[38;5;28;01mimport\u001b[39;00m VIPosterior\n",
      "File \u001b[1;32m~\\anaconda3\\Lib\\site-packages\\sbi\\inference\\posteriors\\mcmc_posterior.py:8\u001b[0m\n\u001b[0;32m      5\u001b[0m \u001b[38;5;28;01mfrom\u001b[39;00m \u001b[38;5;21;01mtyping\u001b[39;00m \u001b[38;5;28;01mimport\u001b[39;00m Any, Callable, Dict, Optional, Tuple, Union\n\u001b[0;32m      6\u001b[0m \u001b[38;5;28;01mfrom\u001b[39;00m \u001b[38;5;21;01mwarnings\u001b[39;00m \u001b[38;5;28;01mimport\u001b[39;00m warn\n\u001b[1;32m----> 8\u001b[0m \u001b[38;5;28;01mimport\u001b[39;00m \u001b[38;5;21;01marviz\u001b[39;00m \u001b[38;5;28;01mas\u001b[39;00m \u001b[38;5;21;01maz\u001b[39;00m\n\u001b[0;32m      9\u001b[0m \u001b[38;5;28;01mimport\u001b[39;00m \u001b[38;5;21;01mtorch\u001b[39;00m\n\u001b[0;32m     10\u001b[0m \u001b[38;5;28;01mimport\u001b[39;00m \u001b[38;5;21;01mtorch\u001b[39;00m\u001b[38;5;21;01m.\u001b[39;00m\u001b[38;5;21;01mdistributions\u001b[39;00m\u001b[38;5;21;01m.\u001b[39;00m\u001b[38;5;21;01mtransforms\u001b[39;00m \u001b[38;5;28;01mas\u001b[39;00m \u001b[38;5;21;01mtorch_tf\u001b[39;00m\n",
      "File \u001b[1;32m~\\anaconda3\\Lib\\site-packages\\arviz\\__init__.py:33\u001b[0m\n\u001b[0;32m     27\u001b[0m         \u001b[38;5;28msuper\u001b[39m()\u001b[38;5;241m.\u001b[39m_log(level, msg, \u001b[38;5;241m*\u001b[39margs, \u001b[38;5;241m*\u001b[39m\u001b[38;5;241m*\u001b[39mkwargs)\n\u001b[0;32m     30\u001b[0m _log \u001b[38;5;241m=\u001b[39m Logger(\u001b[38;5;124m\"\u001b[39m\u001b[38;5;124marviz\u001b[39m\u001b[38;5;124m\"\u001b[39m)\n\u001b[1;32m---> 33\u001b[0m \u001b[38;5;28;01mfrom\u001b[39;00m \u001b[38;5;21;01m.\u001b[39;00m\u001b[38;5;21;01mdata\u001b[39;00m \u001b[38;5;28;01mimport\u001b[39;00m \u001b[38;5;241m*\u001b[39m\n\u001b[0;32m     34\u001b[0m \u001b[38;5;28;01mfrom\u001b[39;00m \u001b[38;5;21;01m.\u001b[39;00m\u001b[38;5;21;01mplots\u001b[39;00m \u001b[38;5;28;01mimport\u001b[39;00m \u001b[38;5;241m*\u001b[39m\n\u001b[0;32m     35\u001b[0m \u001b[38;5;28;01mfrom\u001b[39;00m \u001b[38;5;21;01m.\u001b[39;00m\u001b[38;5;21;01mplots\u001b[39;00m\u001b[38;5;21;01m.\u001b[39;00m\u001b[38;5;21;01mbackends\u001b[39;00m \u001b[38;5;28;01mimport\u001b[39;00m \u001b[38;5;241m*\u001b[39m\n",
      "File \u001b[1;32m~\\anaconda3\\Lib\\site-packages\\arviz\\data\\__init__.py:2\u001b[0m\n\u001b[0;32m      1\u001b[0m \u001b[38;5;124;03m\"\"\"Code for loading and manipulating data structures.\"\"\"\u001b[39;00m\n\u001b[1;32m----> 2\u001b[0m \u001b[38;5;28;01mfrom\u001b[39;00m \u001b[38;5;21;01m.\u001b[39;00m\u001b[38;5;21;01mbase\u001b[39;00m \u001b[38;5;28;01mimport\u001b[39;00m CoordSpec, DimSpec, dict_to_dataset, numpy_to_data_array\n\u001b[0;32m      3\u001b[0m \u001b[38;5;28;01mfrom\u001b[39;00m \u001b[38;5;21;01m.\u001b[39;00m\u001b[38;5;21;01mconverters\u001b[39;00m \u001b[38;5;28;01mimport\u001b[39;00m convert_to_dataset, convert_to_inference_data\n\u001b[0;32m      4\u001b[0m \u001b[38;5;28;01mfrom\u001b[39;00m \u001b[38;5;21;01m.\u001b[39;00m\u001b[38;5;21;01mdatasets\u001b[39;00m \u001b[38;5;28;01mimport\u001b[39;00m clear_data_home, list_datasets, load_arviz_data\n",
      "File \u001b[1;32m~\\anaconda3\\Lib\\site-packages\\arviz\\data\\base.py:20\u001b[0m\n\u001b[0;32m     15\u001b[0m \u001b[38;5;28;01mexcept\u001b[39;00m \u001b[38;5;167;01mImportError\u001b[39;00m:\n\u001b[0;32m     16\u001b[0m     \u001b[38;5;66;03m# mypy struggles with conditional imports expressed as catching ImportError:\u001b[39;00m\n\u001b[0;32m     17\u001b[0m     \u001b[38;5;66;03m# https://github.com/python/mypy/issues/1153\u001b[39;00m\n\u001b[0;32m     18\u001b[0m     \u001b[38;5;28;01mimport\u001b[39;00m \u001b[38;5;21;01mjson\u001b[39;00m  \u001b[38;5;66;03m# type: ignore\u001b[39;00m\n\u001b[1;32m---> 20\u001b[0m \u001b[38;5;28;01mfrom\u001b[39;00m \u001b[38;5;21;01m.\u001b[39;00m\u001b[38;5;21;01m.\u001b[39;00m \u001b[38;5;28;01mimport\u001b[39;00m __version__, utils\n\u001b[0;32m     21\u001b[0m \u001b[38;5;28;01mfrom\u001b[39;00m \u001b[38;5;21;01m.\u001b[39;00m\u001b[38;5;21;01m.\u001b[39;00m\u001b[38;5;21;01mrcparams\u001b[39;00m \u001b[38;5;28;01mimport\u001b[39;00m rcParams\n\u001b[0;32m     23\u001b[0m CoordSpec \u001b[38;5;241m=\u001b[39m Dict[\u001b[38;5;28mstr\u001b[39m, List[Any]]\n",
      "File \u001b[1;32m~\\anaconda3\\Lib\\site-packages\\arviz\\utils.py:667\u001b[0m\n\u001b[0;32m    658\u001b[0m \u001b[38;5;250m    \u001b[39m\u001b[38;5;124;03m\"\"\"Lazily load the resource files into memory the first time they are needed.\u001b[39;00m\n\u001b[0;32m    659\u001b[0m \n\u001b[0;32m    660\u001b[0m \u001b[38;5;124;03m    Clone from xarray.core.formatted_html_template.\u001b[39;00m\n\u001b[0;32m    661\u001b[0m \u001b[38;5;124;03m    \"\"\"\u001b[39;00m\n\u001b[0;32m    662\u001b[0m     \u001b[38;5;28;01mreturn\u001b[39;00m [\n\u001b[0;32m    663\u001b[0m         importlib\u001b[38;5;241m.\u001b[39mresources\u001b[38;5;241m.\u001b[39mfiles(\u001b[38;5;124m\"\u001b[39m\u001b[38;5;124marviz\u001b[39m\u001b[38;5;124m\"\u001b[39m)\u001b[38;5;241m.\u001b[39mjoinpath(fname)\u001b[38;5;241m.\u001b[39mread_text() \u001b[38;5;28;01mfor\u001b[39;00m fname \u001b[38;5;129;01min\u001b[39;00m STATIC_FILES\n\u001b[0;32m    664\u001b[0m     ]\n\u001b[1;32m--> 667\u001b[0m \u001b[38;5;28;01mclass\u001b[39;00m \u001b[38;5;21;01mHtmlTemplate\u001b[39;00m:\n\u001b[0;32m    668\u001b[0m \u001b[38;5;250m    \u001b[39m\u001b[38;5;124;03m\"\"\"Contain html templates for InferenceData repr.\"\"\"\u001b[39;00m\n\u001b[0;32m    670\u001b[0m     html_template \u001b[38;5;241m=\u001b[39m \u001b[38;5;124m\"\"\"\u001b[39m\n\u001b[0;32m    671\u001b[0m \u001b[38;5;124m            <div>\u001b[39m\n\u001b[0;32m    672\u001b[0m \u001b[38;5;124m              <div class=\u001b[39m\u001b[38;5;124m'\u001b[39m\u001b[38;5;124mxr-header\u001b[39m\u001b[38;5;124m'\u001b[39m\u001b[38;5;124m>\u001b[39m\n\u001b[1;32m   (...)\u001b[0m\n\u001b[0;32m    678\u001b[0m \u001b[38;5;124m            </div>\u001b[39m\n\u001b[0;32m    679\u001b[0m \u001b[38;5;124m            \u001b[39m\u001b[38;5;124m\"\"\"\u001b[39m\n",
      "File \u001b[1;32m~\\anaconda3\\Lib\\site-packages\\arviz\\utils.py:692\u001b[0m, in \u001b[0;36mHtmlTemplate\u001b[1;34m()\u001b[0m\n\u001b[0;32m    670\u001b[0m html_template \u001b[38;5;241m=\u001b[39m \u001b[38;5;124m\"\"\"\u001b[39m\n\u001b[0;32m    671\u001b[0m \u001b[38;5;124m        <div>\u001b[39m\n\u001b[0;32m    672\u001b[0m \u001b[38;5;124m          <div class=\u001b[39m\u001b[38;5;124m'\u001b[39m\u001b[38;5;124mxr-header\u001b[39m\u001b[38;5;124m'\u001b[39m\u001b[38;5;124m>\u001b[39m\n\u001b[1;32m   (...)\u001b[0m\n\u001b[0;32m    678\u001b[0m \u001b[38;5;124m        </div>\u001b[39m\n\u001b[0;32m    679\u001b[0m \u001b[38;5;124m        \u001b[39m\u001b[38;5;124m\"\"\"\u001b[39m\n\u001b[0;32m    680\u001b[0m element_template \u001b[38;5;241m=\u001b[39m \u001b[38;5;124m\"\"\"\u001b[39m\n\u001b[0;32m    681\u001b[0m \u001b[38;5;124m        <li class = \u001b[39m\u001b[38;5;124m\"\u001b[39m\u001b[38;5;124mxr-section-item\u001b[39m\u001b[38;5;124m\"\u001b[39m\u001b[38;5;124m>\u001b[39m\n\u001b[0;32m    682\u001b[0m \u001b[38;5;124m              <input id=\u001b[39m\u001b[38;5;124m\"\u001b[39m\u001b[38;5;124midata_\u001b[39m\u001b[38;5;132;01m{group_id}\u001b[39;00m\u001b[38;5;124m\"\u001b[39m\u001b[38;5;124m class=\u001b[39m\u001b[38;5;124m\"\u001b[39m\u001b[38;5;124mxr-section-summary-in\u001b[39m\u001b[38;5;124m\"\u001b[39m\u001b[38;5;124m type=\u001b[39m\u001b[38;5;124m\"\u001b[39m\u001b[38;5;124mcheckbox\u001b[39m\u001b[38;5;124m\"\u001b[39m\u001b[38;5;124m>\u001b[39m\n\u001b[1;32m   (...)\u001b[0m\n\u001b[0;32m    690\u001b[0m \u001b[38;5;124m        </li>\u001b[39m\n\u001b[0;32m    691\u001b[0m \u001b[38;5;124m        \u001b[39m\u001b[38;5;124m\"\"\"\u001b[39m\n\u001b[1;32m--> 692\u001b[0m _, css_style \u001b[38;5;241m=\u001b[39m _load_static_files()  \u001b[38;5;66;03m# pylint: disable=protected-access\u001b[39;00m\n\u001b[0;32m    693\u001b[0m specific_style \u001b[38;5;241m=\u001b[39m \u001b[38;5;124m\"\u001b[39m\u001b[38;5;124m.xr-wrap\u001b[39m\u001b[38;5;124m{\u001b[39m\u001b[38;5;124mwidth:700px!important;}\u001b[39m\u001b[38;5;124m\"\u001b[39m\n\u001b[0;32m    694\u001b[0m css_template \u001b[38;5;241m=\u001b[39m \u001b[38;5;124mf\u001b[39m\u001b[38;5;124m\"\u001b[39m\u001b[38;5;124m<style> \u001b[39m\u001b[38;5;132;01m{\u001b[39;00mcss_style\u001b[38;5;132;01m}\u001b[39;00m\u001b[38;5;132;01m{\u001b[39;00mspecific_style\u001b[38;5;132;01m}\u001b[39;00m\u001b[38;5;124m </style>\u001b[39m\u001b[38;5;124m\"\u001b[39m\n",
      "File \u001b[1;32m~\\anaconda3\\Lib\\site-packages\\arviz\\utils.py:662\u001b[0m, in \u001b[0;36m_load_static_files\u001b[1;34m()\u001b[0m\n\u001b[0;32m    656\u001b[0m \u001b[38;5;129m@lru_cache\u001b[39m(\u001b[38;5;28;01mNone\u001b[39;00m)\n\u001b[0;32m    657\u001b[0m \u001b[38;5;28;01mdef\u001b[39;00m \u001b[38;5;21m_load_static_files\u001b[39m():\n\u001b[0;32m    658\u001b[0m \u001b[38;5;250m    \u001b[39m\u001b[38;5;124;03m\"\"\"Lazily load the resource files into memory the first time they are needed.\u001b[39;00m\n\u001b[0;32m    659\u001b[0m \n\u001b[0;32m    660\u001b[0m \u001b[38;5;124;03m    Clone from xarray.core.formatted_html_template.\u001b[39;00m\n\u001b[0;32m    661\u001b[0m \u001b[38;5;124;03m    \"\"\"\u001b[39;00m\n\u001b[1;32m--> 662\u001b[0m     \u001b[38;5;28;01mreturn\u001b[39;00m [\n\u001b[0;32m    663\u001b[0m         importlib\u001b[38;5;241m.\u001b[39mresources\u001b[38;5;241m.\u001b[39mfiles(\u001b[38;5;124m\"\u001b[39m\u001b[38;5;124marviz\u001b[39m\u001b[38;5;124m\"\u001b[39m)\u001b[38;5;241m.\u001b[39mjoinpath(fname)\u001b[38;5;241m.\u001b[39mread_text() \u001b[38;5;28;01mfor\u001b[39;00m fname \u001b[38;5;129;01min\u001b[39;00m STATIC_FILES\n\u001b[0;32m    664\u001b[0m     ]\n",
      "File \u001b[1;32m~\\anaconda3\\Lib\\site-packages\\arviz\\utils.py:663\u001b[0m, in \u001b[0;36m<listcomp>\u001b[1;34m(.0)\u001b[0m\n\u001b[0;32m    656\u001b[0m \u001b[38;5;129m@lru_cache\u001b[39m(\u001b[38;5;28;01mNone\u001b[39;00m)\n\u001b[0;32m    657\u001b[0m \u001b[38;5;28;01mdef\u001b[39;00m \u001b[38;5;21m_load_static_files\u001b[39m():\n\u001b[0;32m    658\u001b[0m \u001b[38;5;250m    \u001b[39m\u001b[38;5;124;03m\"\"\"Lazily load the resource files into memory the first time they are needed.\u001b[39;00m\n\u001b[0;32m    659\u001b[0m \n\u001b[0;32m    660\u001b[0m \u001b[38;5;124;03m    Clone from xarray.core.formatted_html_template.\u001b[39;00m\n\u001b[0;32m    661\u001b[0m \u001b[38;5;124;03m    \"\"\"\u001b[39;00m\n\u001b[0;32m    662\u001b[0m     \u001b[38;5;28;01mreturn\u001b[39;00m [\n\u001b[1;32m--> 663\u001b[0m         importlib\u001b[38;5;241m.\u001b[39mresources\u001b[38;5;241m.\u001b[39mfiles(\u001b[38;5;124m\"\u001b[39m\u001b[38;5;124marviz\u001b[39m\u001b[38;5;124m\"\u001b[39m)\u001b[38;5;241m.\u001b[39mjoinpath(fname)\u001b[38;5;241m.\u001b[39mread_text() \u001b[38;5;28;01mfor\u001b[39;00m fname \u001b[38;5;129;01min\u001b[39;00m STATIC_FILES\n\u001b[0;32m    664\u001b[0m     ]\n",
      "File \u001b[1;32m~\\anaconda3\\Lib\\pathlib.py:1059\u001b[0m, in \u001b[0;36mPath.read_text\u001b[1;34m(self, encoding, errors)\u001b[0m\n\u001b[0;32m   1057\u001b[0m encoding \u001b[38;5;241m=\u001b[39m io\u001b[38;5;241m.\u001b[39mtext_encoding(encoding)\n\u001b[0;32m   1058\u001b[0m \u001b[38;5;28;01mwith\u001b[39;00m \u001b[38;5;28mself\u001b[39m\u001b[38;5;241m.\u001b[39mopen(mode\u001b[38;5;241m=\u001b[39m\u001b[38;5;124m'\u001b[39m\u001b[38;5;124mr\u001b[39m\u001b[38;5;124m'\u001b[39m, encoding\u001b[38;5;241m=\u001b[39mencoding, errors\u001b[38;5;241m=\u001b[39merrors) \u001b[38;5;28;01mas\u001b[39;00m f:\n\u001b[1;32m-> 1059\u001b[0m     \u001b[38;5;28;01mreturn\u001b[39;00m f\u001b[38;5;241m.\u001b[39mread()\n",
      "\u001b[1;31mUnicodeDecodeError\u001b[0m: 'gbk' codec can't decode byte 0xba in position 2367: illegal multibyte sequence"
     ]
    }
   ],
   "source": [
    "import numpy as np\n",
    "import torch\n",
    "_ = torch.manual_seed(10)\n",
    "import os\n",
    "import math\n",
    "\n",
    "from sbi.inference import SNPE, prepare_for_sbi, simulate_for_sbi\n",
    "from sbi.utils.get_nn_models import posterior_nn\n",
    "from sbi import utils as utils\n",
    "from sbi import analysis as analysis\n",
    "\n",
    "import scipy.io as sio"
   ]
  },
  {
   "cell_type": "code",
   "execution_count": null,
   "id": "cf320fe5",
   "metadata": {},
   "outputs": [],
   "source": [
    "initial_data = sio.loadmat(\"BVCBM_3para_training_dataset.mat\")\n",
    "y_true = sio.loadmat(\"paper2_BVCBM_synthetic_datasets.mat\")"
   ]
  },
  {
   "cell_type": "code",
   "execution_count": null,
   "id": "b8dbadd5",
   "metadata": {
    "scrolled": false
   },
   "outputs": [],
   "source": [
    "y = torch.from_numpy(y_true[\"sim1\"]).to(torch.float32)\n",
    "theta = torch.from_numpy(initial_data[\"theta_prior\"]).to(torch.float32)\n",
    "x = torch.from_numpy(initial_data[\"sims_prior\"]).to(torch.float32)\n",
    "\n",
    "lower = torch.ones(9)\n",
    "lower[0],lower[1],lower[5],lower[6] = 0*lower[0], 0*lower[1],0*lower[5], 0*lower[6]\n",
    "lower[4] = 2 * lower[4]\n",
    "\n",
    "upper = torch.ones(9)\n",
    "upper[2],upper[3],upper[7],upper[8] = 50*upper[2],24*32*upper[3],50*upper[7],24*32*upper[8]\n",
    "upper[4] = 31 * upper[4]\n",
    "\n",
    "priorDist = utils.BoxUniform(lower,upper)\n",
    "def simulator(theta):\n",
    "    return theta\n",
    "_,prior = prepare_for_sbi(simulator,priorDist)\n",
    "\n",
    "proposal = prior"
   ]
  },
  {
   "cell_type": "code",
   "execution_count": null,
   "id": "405825b5",
   "metadata": {},
   "outputs": [],
   "source": [
    "inference = SNPE(prior=prior, density_estimator='nsf')\n",
    "density_estimator = inference.append_simulations(theta, x, proposal=proposal).train()\n",
    "posterior = inference.build_posterior(density_estimator)"
   ]
  },
  {
   "cell_type": "code",
   "execution_count": null,
   "id": "988d42c1",
   "metadata": {},
   "outputs": [],
   "source": [
    "from sbi import analysis as analysis\n",
    "\n",
    "posterior_samples_syn1 = posterior.sample((10000,),x = y) \n",
    "\n",
    "_ = analysis.pairplot(\n",
    "    posterior_samples_syn1, figsize=(10, 10)\n",
    ")"
   ]
  },
  {
   "cell_type": "code",
   "execution_count": null,
   "id": "181731dd",
   "metadata": {},
   "outputs": [],
   "source": []
  },
  {
   "cell_type": "code",
   "execution_count": null,
   "id": "2fcd8996",
   "metadata": {},
   "outputs": [],
   "source": []
  },
  {
   "cell_type": "code",
   "execution_count": null,
   "id": "4dfd1860",
   "metadata": {},
   "outputs": [],
   "source": []
  },
  {
   "cell_type": "code",
   "execution_count": null,
   "id": "8e4ec7e3",
   "metadata": {},
   "outputs": [],
   "source": [
    "posterior = torch.load('BVCBM_synthetic2_30k_theta_sims.pth')\n",
    "proposal = posterior.set_default_x(y[1, 0:25])\n",
    "\n",
    "syn1_data_iter2 = sio.loadmat(\"BVCBM_SNPE_Synthetic_40kSimulation.mat\")\n",
    "theta1 = torch.from_numpy(syn1_data_iter2[\"theta_syn2\"]).to(torch.float32)\n",
    "x1 = torch.from_numpy(syn1_data_iter2[\"sims2\"]).to(torch.float32)"
   ]
  },
  {
   "cell_type": "code",
   "execution_count": null,
   "id": "0e92a793",
   "metadata": {},
   "outputs": [],
   "source": [
    "density_estimator = inference.append_simulations(theta1, x1, proposal=proposal).train()\n",
    "posterior = inference.build_posterior(density_estimator)"
   ]
  },
  {
   "cell_type": "code",
   "execution_count": null,
   "id": "49fe76e2",
   "metadata": {},
   "outputs": [],
   "source": [
    "torch.save(posterior, 'BVCBM_synthetic2_40k_theta_sims.pth')"
   ]
  },
  {
   "cell_type": "code",
   "execution_count": null,
   "id": "5b02e6c0",
   "metadata": {},
   "outputs": [],
   "source": [
    "from sbi import analysis as analysis\n",
    "\n",
    "posterior_samples_syn1 = posterior.sample((10000,),x = y[1, 0:25]) \n",
    "\n",
    "_ = analysis.pairplot(\n",
    "    posterior_samples_syn1, figsize=(10, 10)\n",
    ")"
   ]
  },
  {
   "cell_type": "code",
   "execution_count": null,
   "id": "cd3a4163",
   "metadata": {},
   "outputs": [],
   "source": [
    "sio.savemat(\"BVCBM_SNPE_synthetic2_50kTheta.mat\", {\"theta_syn2\": posterior_samples_syn1.numpy()})"
   ]
  },
  {
   "cell_type": "code",
   "execution_count": null,
   "id": "9acd5c0d",
   "metadata": {},
   "outputs": [],
   "source": []
  }
 ],
 "metadata": {
  "kernelspec": {
   "display_name": "Python 3 (ipykernel)",
   "language": "python",
   "name": "python3"
  },
  "language_info": {
   "codemirror_mode": {
    "name": "ipython",
    "version": 3
   },
   "file_extension": ".py",
   "mimetype": "text/x-python",
   "name": "python",
   "nbconvert_exporter": "python",
   "pygments_lexer": "ipython3",
   "version": "3.11.4"
  }
 },
 "nbformat": 4,
 "nbformat_minor": 5
}
