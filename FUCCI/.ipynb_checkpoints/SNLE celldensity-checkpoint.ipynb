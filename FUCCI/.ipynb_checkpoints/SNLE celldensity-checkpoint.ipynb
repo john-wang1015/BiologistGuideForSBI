{
 "cells": [
  {
   "cell_type": "code",
   "execution_count": 1,
   "id": "ff90f1ac",
   "metadata": {},
   "outputs": [],
   "source": [
    "import numpy as np\n",
    "import pandas as pd\n",
    "import torch\n",
    "_ = torch.manual_seed(10)\n",
    "import os\n",
    "import math\n",
    "from sbi import utils as utils\n",
    "import sbi\n",
    "from sbi import inference\n",
    "from sbi.inference import SNPE, prepare_for_sbi, simulate_for_sbi\n",
    "import scipy.io as sio"
   ]
  },
  {
   "cell_type": "code",
   "execution_count": 2,
   "id": "9cf06455",
   "metadata": {},
   "outputs": [],
   "source": [
    "class CustomPriorDist:\n",
    "    def __init__(self, mean,sigma, return_numpy: bool = False):\n",
    "        self.dist1 = utils.BoxUniform(mean,sigma)\n",
    "        self.dist2 = utils.BoxUniform(mean,sigma)\n",
    "        self.dist3 = utils.BoxUniform(mean,sigma)\n",
    "        self.dist4 = utils.BoxUniform(mean,sigma)\n",
    "        self.dist5 = utils.BoxUniform(mean,sigma)\n",
    "        self.dist6 = utils.BoxUniform(mean,sigma)        \n",
    "        self.return_numpy = return_numpy\n",
    "        \n",
    "    def sample(self, sample_shape=torch.Size([])):\n",
    "        if len(sample_shape) == 1:\n",
    "            length = sample_shape[0]\n",
    "            samples = torch.ones(length,6)\n",
    "            temp_1 = self.dist1.sample(sample_shape)\n",
    "            temp_2 = self.dist2.sample(sample_shape)\n",
    "            temp_3 = self.dist3.sample(sample_shape)\n",
    "            temp_4 = self.dist4.sample(sample_shape)\n",
    "            temp_5 = self.dist5.sample(sample_shape)\n",
    "            temp_6 = self.dist6.sample(sample_shape)\n",
    "            samples[:,0] = temp_1[:,0]\n",
    "            samples[:,1] = temp_2[:,0]\n",
    "            samples[:,2] = temp_3[:,0]\n",
    "            samples[:,3] = temp_4[:,0]\n",
    "            samples[:,4] = temp_5[:,0]\n",
    "            samples[:,5] = temp_6[:,0]\n",
    "            return samples.numpy() if self.return_numpy else samples\n",
    "        else:\n",
    "            samples = torch.ones(1,6)\n",
    "            temp_1 = self.dist1.sample(sample_shape)\n",
    "            temp_2 = self.dist2.sample(sample_shape)\n",
    "            temp_3 = self.dist3.sample(sample_shape)\n",
    "            temp_4 = self.dist4.sample(sample_shape)\n",
    "            temp_5 = self.dist5.sample(sample_shape)\n",
    "            temp_6 = self.dist6.sample(sample_shape)\n",
    "\n",
    "            samples[:,0] = temp_1[0]\n",
    "            samples[:,1] = temp_2[0]\n",
    "            samples[:,2] = temp_3[0]\n",
    "            samples[:,3] = temp_4[0]\n",
    "            samples[:,4] = temp_5[0]\n",
    "            samples[:,5] = temp_6[0]\n",
    "            return samples.numpy() if self.return_numpy else samples            \n",
    "    \n",
    "    def log_prob(self, values):\n",
    "        log_probs = torch.ones((values.size()[0],))\n",
    "        length = values.size()[0]\n",
    "        if self.return_numpy:\n",
    "            values = torch.as_tensor(values)\n",
    "        \n",
    "        for i in range(values.size()[0]):\n",
    "            temp = torch.ones(6)\n",
    "            temp[0] = self.dist1.log_prob(values[i][0])\n",
    "            temp[1] = self.dist2.log_prob(values[i][1])\n",
    "            temp[2] = self.dist3.log_prob(values[i][2])\n",
    "            temp[3] = self.dist4.log_prob(values[i][3])\n",
    "            temp[4] = self.dist5.log_prob(values[i][4])\n",
    "            temp[5] = self.dist6.log_prob(values[i][5])\n",
    "            log_probs[i] =  torch.sum(temp)\n",
    "            \n",
    "        return log_probs.numpy() if self.return_numpy else log_probs"
   ]
  },
  {
   "cell_type": "code",
   "execution_count": 3,
   "id": "f5b411eb",
   "metadata": {
    "scrolled": true
   },
   "outputs": [],
   "source": [
    "initial_celltracking_data = sio.loadmat(\"CellTrack_10k.mat\")"
   ]
  },
  {
   "cell_type": "code",
   "execution_count": 4,
   "id": "1e4ea057",
   "metadata": {},
   "outputs": [],
   "source": [
    "theta_np = initial_celltracking_data[\"theta\"]\n",
    "summaries = initial_celltracking_data[\"summaries\"]\n",
    "obs = initial_celltracking_data[\"sy\"]"
   ]
  },
  {
   "cell_type": "code",
   "execution_count": 5,
   "id": "a0221e70",
   "metadata": {},
   "outputs": [],
   "source": [
    "theta = torch.from_numpy(theta_np).to(torch.float32)\n",
    "x = torch.from_numpy(summaries).to(torch.float32)\n",
    "x_0 = torch.from_numpy(obs).to(torch.float32)"
   ]
  },
  {
   "cell_type": "code",
   "execution_count": 6,
   "id": "6ed1a0d1",
   "metadata": {},
   "outputs": [
    {
     "name": "stderr",
     "output_type": "stream",
     "text": [
      "C:\\Users\\aufb\\anaconda3\\lib\\site-packages\\torch\\distributions\\distribution.py:44: UserWarning: <class 'sbi.utils.user_input_checks_utils.CustomPytorchWrapper'> does not define `arg_constraints`. Please set `arg_constraints = {}` or initialize the distribution with `validate_args=False` to turn off validation.\n",
      "  warnings.warn(f'{self.__class__} does not define `arg_constraints`. ' +\n",
      "C:\\Users\\aufb\\anaconda3\\lib\\site-packages\\sbi\\utils\\user_input_checks_utils.py:60: UserWarning: Prior is lacking mean attribute, estimating prior mean from samples.\n",
      "  warnings.warn(\n",
      "C:\\Users\\aufb\\anaconda3\\lib\\site-packages\\sbi\\utils\\user_input_checks_utils.py:71: UserWarning: Prior is lacking variance attribute, estimating prior variance from\n",
      "                samples...\n",
      "  warnings.warn(\n"
     ]
    }
   ],
   "source": [
    "priorDist = CustomPriorDist(torch.zeros(1),torch.ones(1))\n",
    "def simulator(theta):\n",
    "    return theta\n",
    "_,prior = prepare_for_sbi(simulator,priorDist)"
   ]
  },
  {
   "cell_type": "code",
   "execution_count": null,
   "id": "f1c2f662",
   "metadata": {},
   "outputs": [
    {
     "name": "stdout",
     "output_type": "stream",
     "text": [
      "Training neural network. Epochs trained:  2\r"
     ]
    }
   ],
   "source": [
    "inference = sbi.inference.SNLE(prior=prior, density_estimator='nsf')\n",
    "density_estimator = inference.append_simulations(theta, x).train()\n",
    "posterior = inference.build_posterior(density_estimator)"
   ]
  },
  {
   "cell_type": "code",
   "execution_count": null,
   "id": "77037a6c",
   "metadata": {},
   "outputs": [],
   "source": [
    "posterior_samples = posterior.sample((10000,),x = x_0)"
   ]
  },
  {
   "cell_type": "code",
   "execution_count": null,
   "id": "f7f3356b",
   "metadata": {},
   "outputs": [],
   "source": [
    "from sbi import analysis as analysis\n",
    "_ = analysis.pairplot(\n",
    "    posterior_samples, figsize=(5, 5)\n",
    ")"
   ]
  },
  {
   "cell_type": "code",
   "execution_count": null,
   "id": "707b7792",
   "metadata": {},
   "outputs": [],
   "source": [
    "mdic = {\"theta_new\": posterior_samples.numpy(), \"theta_old\":theta.numpy(), \"sims_old\":x.numpy(),\"observation\":x_0.numpy()}\n",
    "sio.savemat(\"SNLE_nsf_celltrack_20k.mat\", mdic)"
   ]
  }
 ],
 "metadata": {
  "kernelspec": {
   "display_name": "Python 3 (ipykernel)",
   "language": "python",
   "name": "python3"
  },
  "language_info": {
   "codemirror_mode": {
    "name": "ipython",
    "version": 3
   },
   "file_extension": ".py",
   "mimetype": "text/x-python",
   "name": "python",
   "nbconvert_exporter": "python",
   "pygments_lexer": "ipython3",
   "version": "3.9.12"
  }
 },
 "nbformat": 4,
 "nbformat_minor": 5
}
