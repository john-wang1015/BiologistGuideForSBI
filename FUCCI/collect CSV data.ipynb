{
 "cells": [
  {
   "cell_type": "code",
   "execution_count": 4,
   "id": "6a6a3911",
   "metadata": {},
   "outputs": [],
   "source": [
    "import pandas as pd\n",
    "import numpy as np"
   ]
  },
  {
   "cell_type": "code",
   "execution_count": 5,
   "id": "5aa87152",
   "metadata": {},
   "outputs": [],
   "source": [
    "CellDensity_pd = pd.read_excel('SMCABC_DATA.xlsx','Experiment_CellDensity')\n",
    "CellTrack_pd = pd.read_excel('SMCABC_DATA.xlsx','Experiment_CellTracking')\n",
    "CellDensity_result = CellDensity_pd.to_numpy()[:,6:22]\n",
    "CellTrack_result = CellTrack_pd.to_numpy()[:,6:13]\n",
    "CD_para = CellDensity_pd.to_numpy()[:,0:6]\n",
    "CT_para = CellTrack_pd.to_numpy()[:,0:6]"
   ]
  },
  {
   "cell_type": "code",
   "execution_count": 6,
   "id": "1aea9dc1",
   "metadata": {},
   "outputs": [],
   "source": [
    "import scipy.io as sio\n",
    "mdic1 = {\"CD_smcabc\": CellDensity_result, \"CT_smcabc\": CellTrack_result, 'CD_para': CD_para, 'CT_para': CT_para}\n",
    "sio.savemat(\"CDandCT_smcabc.mat\", mdic1)\n"
   ]
  },
  {
   "cell_type": "code",
   "execution_count": null,
   "id": "b3e1420d",
   "metadata": {},
   "outputs": [],
   "source": []
  }
 ],
 "metadata": {
  "kernelspec": {
   "display_name": "Python 3 (ipykernel)",
   "language": "python",
   "name": "python3"
  },
  "language_info": {
   "codemirror_mode": {
    "name": "ipython",
    "version": 3
   },
   "file_extension": ".py",
   "mimetype": "text/x-python",
   "name": "python",
   "nbconvert_exporter": "python",
   "pygments_lexer": "ipython3",
   "version": "3.9.12"
  }
 },
 "nbformat": 4,
 "nbformat_minor": 5
}
