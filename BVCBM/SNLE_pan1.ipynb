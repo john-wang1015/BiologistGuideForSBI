{
 "cells": [
  {
   "cell_type": "code",
   "execution_count": 1,
   "id": "3cc31b9f",
   "metadata": {},
   "outputs": [],
   "source": [
    "import numpy as np\n",
    "import pandas as pd\n",
    "import torch\n",
    "_ = torch.manual_seed(10)\n",
    "import os\n",
    "import math\n",
    "from sbi import utils as utils\n",
    "import sbi\n",
    "from sbi import inference\n",
    "from sbi.inference import SNLE, prepare_for_sbi, simulate_for_sbi\n",
    "import scipy.io as sio"
   ]
  },
  {
   "cell_type": "code",
   "execution_count": 2,
   "id": "4ee5bb68",
   "metadata": {},
   "outputs": [],
   "source": [
    "initial_data = sio.loadmat(\"pancreatic1.mat\")\n",
    "init_obs = sio.loadmat(\"CancerDatasets.mat\")"
   ]
  },
  {
   "cell_type": "code",
   "execution_count": 3,
   "id": "b03d1f07",
   "metadata": {},
   "outputs": [],
   "source": [
    "theta = torch.from_numpy(initial_data[\"part_vals_prior\"]).to(torch.float32)\n",
    "x = torch.from_numpy(initial_data[\"prior_pred_sim\"]).to(torch.float32)\n",
    "x_0 = torch.from_numpy(init_obs['Pancreatic_data'][:,0][0:19]).to(torch.float32)"
   ]
  },
  {
   "cell_type": "code",
   "execution_count": 4,
   "id": "c22b521d",
   "metadata": {},
   "outputs": [],
   "source": [
    "lower = torch.ones(9)\n",
    "lower[0],lower[1],lower[5],lower[6] = 0*lower[0], 0*lower[1],0*lower[5], 0*lower[6]\n",
    "lower[4] = 2 * lower[4]\n",
    "upper = torch.ones(9)\n",
    "upper[2],upper[3],upper[7],upper[8] = 50*upper[2],24*19*upper[3],50*upper[7],24*32*upper[8]\n",
    "upper[4] = 19 * upper[4]"
   ]
  },
  {
   "cell_type": "code",
   "execution_count": 5,
   "id": "9fab0c16",
   "metadata": {},
   "outputs": [],
   "source": [
    "priorDist = utils.BoxUniform(lower,upper)\n",
    "def simulator(theta):\n",
    "    return theta\n",
    "_,prior = prepare_for_sbi(simulator,priorDist)"
   ]
  },
  {
   "cell_type": "code",
   "execution_count": 6,
   "id": "34cafcd2",
   "metadata": {},
   "outputs": [
    {
     "name": "stdout",
     "output_type": "stream",
     "text": [
      " Neural network successfully converged after 145 epochs."
     ]
    }
   ],
   "source": [
    "inference = sbi.inference.SNLE(prior=prior, density_estimator='nsf')\n",
    "density_estimator = inference.append_simulations(theta, x).train()\n",
    "posterior = inference.build_posterior(density_estimator)"
   ]
  },
  {
   "cell_type": "code",
   "execution_count": 7,
   "id": "c6f561a1",
   "metadata": {},
   "outputs": [
    {
     "data": {
      "application/vnd.jupyter.widget-view+json": {
       "model_id": "89e137846a4e415c87bb15915948a3f6",
       "version_major": 2,
       "version_minor": 0
      },
      "text/plain": [
       "  0%|          | 0/50 [00:00<?, ?it/s]"
      ]
     },
     "metadata": {},
     "output_type": "display_data"
    },
    {
     "data": {
      "application/vnd.jupyter.widget-view+json": {
       "model_id": "176d8ccbbe264a20a81c4396510a2e81",
       "version_major": 2,
       "version_minor": 0
      },
      "text/plain": [
       "  0%|          | 0/10100 [00:00<?, ?it/s]"
      ]
     },
     "metadata": {},
     "output_type": "display_data"
    }
   ],
   "source": [
    "posterior_samples = posterior.sample((1000,),x = x_0)"
   ]
  },
  {
   "cell_type": "code",
   "execution_count": 8,
   "id": "f4623158",
   "metadata": {},
   "outputs": [
    {
     "data": {
      "image/png": "[encoded data removed]",
      "text/plain": [
       "<Figure size 720x720 with 81 Axes>"
      ]
     },
     "metadata": {
      "needs_background": "light"
     },
     "output_type": "display_data"
    }
   ],
   "source": [
    "from sbi import analysis as analysis\n",
    "_ = analysis.pairplot(\n",
    "    posterior_samples, figsize=(10, 10)\n",
    ")"
   ]
  },
  {
   "cell_type": "code",
   "execution_count": 9,
   "id": "9e94bf07",
   "metadata": {},
   "outputs": [],
   "source": [
    "mdic = {\"theta_new\": posterior_samples.numpy(), \"theta_old\":theta.numpy(), \"sims_old\":x.numpy(),\"observation\":x_0.numpy()}\n",
    "sio.savemat(\"BVCBM_SNLE_pan1_theta20k.mat\", mdic)"
   ]
  },
  {
   "cell_type": "code",
   "execution_count": null,
   "id": "a8206e7f",
   "metadata": {},
   "outputs": [],
   "source": []
  }
 ],
 "metadata": {
  "kernelspec": {
   "display_name": "Python 3 (ipykernel)",
   "language": "python",
   "name": "python3"
  },
  "language_info": {
   "codemirror_mode": {
    "name": "ipython",
    "version": 3
   },
   "file_extension": ".py",
   "mimetype": "text/x-python",
   "name": "python",
   "nbconvert_exporter": "python",
   "pygments_lexer": "ipython3",
   "version": "3.9.12"
  }
 },
 "nbformat": 4,
 "nbformat_minor": 5
}
