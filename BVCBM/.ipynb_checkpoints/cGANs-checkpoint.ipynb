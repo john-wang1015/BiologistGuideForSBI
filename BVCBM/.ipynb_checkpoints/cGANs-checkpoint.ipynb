{
 "cells": [
  {
   "cell_type": "code",
   "execution_count": null,
   "id": "a1a45868",
   "metadata": {},
   "outputs": [
    {
     "name": "stdout",
     "output_type": "stream",
     "text": [
      "Pancreas object: <ctypes.wintypes.LP_c_void_p object at 0x000001F55DECD2C0>\n"
     ]
    }
   ],
   "source": [
    "import ctypes\n",
    "import os\n",
    "from ctypes import c_double, c_int\n",
    "\n",
    "# Load the shared library\n",
    "lib_path = r\"C:\\Users\\aufb\\Dropbox\\ModelLibrary\\x64\\Debug\\ModelLibrary.dll\"  \n",
    "model_lib = ctypes.CDLL(lib_path)\n",
    "\n",
    "# Define the function signatures\n",
    "model_lib.SeedAndGrowToStartVolume.argtypes = [c_double, c_double, c_int, c_int, c_int, c_double]\n",
    "model_lib.SeedAndGrowToStartVolume.restype = ctypes.POINTER(ctypes.c_void_p)  # Assuming Pancreas is an opaque pointer\n",
    "\n",
    "model_lib.FullSimulation.argtypes = [c_double, c_double, c_int, c_int, c_int, c_double, c_int]\n",
    "model_lib.FullSimulation.restype = ctypes.POINTER(ctypes.c_double)\n",
    "\n",
    "# Call the SeedAndGrowToStartVolume function\n",
    "pancreas = model_lib.SeedAndGrowToStartVolume(0.1, 0.2, 3, 4, 5, 100.0)\n",
    "print(f\"Pancreas object: {pancreas}\")\n",
    "\n",
    "# Call the FullSimulation function\n",
    "result = model_lib.FullSimulation(0.1, 0.2, 3, 4, 5, 100.0, 50)\n",
    "print(f\"Result: {result.contents.value}\")  # Assuming the function returns a pointer to a single double\n"
   ]
  },
  {
   "cell_type": "code",
   "execution_count": null,
   "id": "e642489f",
   "metadata": {},
   "outputs": [],
   "source": []
  }
 ],
 "metadata": {
  "kernelspec": {
   "display_name": "Python 3 (ipykernel)",
   "language": "python",
   "name": "python3"
  },
  "language_info": {
   "codemirror_mode": {
    "name": "ipython",
    "version": 3
   },
   "file_extension": ".py",
   "mimetype": "text/x-python",
   "name": "python",
   "nbconvert_exporter": "python",
   "pygments_lexer": "ipython3",
   "version": "3.9.12"
  }
 },
 "nbformat": 4,
 "nbformat_minor": 5
}
